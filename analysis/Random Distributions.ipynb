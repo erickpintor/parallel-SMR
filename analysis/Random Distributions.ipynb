{
 "cells": [
  {
   "cell_type": "markdown",
   "metadata": {},
   "source": [
    "# Experimenting with different random distribuitions"
   ]
  },
  {
   "cell_type": "code",
   "execution_count": 1,
   "metadata": {},
   "outputs": [],
   "source": [
    "%matplotlib inline"
   ]
  },
  {
   "cell_type": "code",
   "execution_count": 2,
   "metadata": {},
   "outputs": [],
   "source": [
    "import random\n",
    "import pandas as pd\n",
    "import ipywidgets as widgets\n",
    "from ipywidgets import interact"
   ]
  },
  {
   "cell_type": "code",
   "execution_count": 3,
   "metadata": {},
   "outputs": [],
   "source": [
    "def plot(fn, maxkey):\n",
    "    if maxkey == 0:\n",
    "        return\n",
    "    \n",
    "    def gen(n):\n",
    "        for i in range(n):\n",
    "            num = -1\n",
    "            while num < 0 or num > maxkey:\n",
    "                num = round(fn())\n",
    "            yield num\n",
    "\n",
    "    df = pd.DataFrame(gen(maxkey))\n",
    "    df.plot.hist(legend=False)"
   ]
  },
  {
   "cell_type": "code",
   "execution_count": 4,
   "metadata": {},
   "outputs": [
    {
     "data": {
      "application/vnd.jupyter.widget-view+json": {
       "model_id": "8f560ee1561c4133b98b5f1adf049057",
       "version_major": 2,
       "version_minor": 0
      },
      "text/plain": [
       "interactive(children=(IntSlider(value=1000, description='maxkey', max=100000, step=1000), Output()), _dom_clas…"
      ]
     },
     "metadata": {},
     "output_type": "display_data"
    }
   ],
   "source": [
    "@interact(maxkey=widgets.IntSlider(min=0, max=100000, step=1000, value=1000))\n",
    "def uniform(maxkey):\n",
    "    plot(lambda: random.random() * maxkey, maxkey)"
   ]
  },
  {
   "cell_type": "code",
   "execution_count": 5,
   "metadata": {},
   "outputs": [
    {
     "data": {
      "application/vnd.jupyter.widget-view+json": {
       "model_id": "5f37be7665e948f9abb51989ca303315",
       "version_major": 2,
       "version_minor": 0
      },
      "text/plain": [
       "interactive(children=(FloatSlider(value=0.3, description='sd', max=1.0, step=0.01), IntSlider(value=1000, desc…"
      ]
     },
     "metadata": {},
     "output_type": "display_data"
    }
   ],
   "source": [
    "@interact(sd=widgets.FloatSlider(min=0.0, max=1, step=0.01, value=0.3),\n",
    "          maxkey=widgets.IntSlider(min=0, max=100000, step=1000, value=1000))\n",
    "def gauss(sd, maxkey):\n",
    "    plot(lambda: random.gauss(0, 1) * ((maxkey/2)*sd) + (maxkey/2), maxkey)"
   ]
  }
 ],
 "metadata": {
  "kernelspec": {
   "display_name": "Python 3",
   "language": "python",
   "name": "python3"
  },
  "language_info": {
   "codemirror_mode": {
    "name": "ipython",
    "version": 3
   },
   "file_extension": ".py",
   "mimetype": "text/x-python",
   "name": "python",
   "nbconvert_exporter": "python",
   "pygments_lexer": "ipython3",
   "version": "3.7.3"
  }
 },
 "nbformat": 4,
 "nbformat_minor": 4
}
