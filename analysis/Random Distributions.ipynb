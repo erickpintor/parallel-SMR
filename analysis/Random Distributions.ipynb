{
 "cells": [
  {
   "cell_type": "markdown",
   "metadata": {},
   "source": [
    "# Experimenting with different random distribuitions"
   ]
  },
  {
   "cell_type": "code",
   "execution_count": 1,
   "metadata": {
    "jupyter": {
     "source_hidden": true
    }
   },
   "outputs": [],
   "source": [
    "%matplotlib widget"
   ]
  },
  {
   "cell_type": "code",
   "execution_count": 6,
   "metadata": {
    "jupyter": {
     "source_hidden": true
    }
   },
   "outputs": [],
   "source": [
    "import random\n",
    "import pandas as pd\n",
    "import ipywidgets as widgets\n",
    "import matplotlib.pyplot as plt\n",
    "from ipywidgets import interact"
   ]
  },
  {
   "cell_type": "code",
   "execution_count": 7,
   "metadata": {},
   "outputs": [],
   "source": [
    "def plot(fn, maxkey):\n",
    "    if maxkey == 0:\n",
    "        return\n",
    "    \n",
    "    def gen(n):\n",
    "        for i in range(n):\n",
    "            num = -1\n",
    "            while num < 0 or num > maxkey:\n",
    "                num = round(fn())\n",
    "            yield num\n",
    "\n",
    "    plt.close()\n",
    "    df = pd.DataFrame(gen(maxkey))\n",
    "    df.plot.hist(legend=False)"
   ]
  },
  {
   "cell_type": "code",
   "execution_count": 8,
   "metadata": {
    "jupyter": {
     "source_hidden": true
    }
   },
   "outputs": [
    {
     "data": {
      "application/vnd.jupyter.widget-view+json": {
       "model_id": "3667d99c40174c31934bd2350c417e7a",
       "version_major": 2,
       "version_minor": 0
      },
      "text/plain": [
       "interactive(children=(IntSlider(value=1000, description='maxkey', max=100000, step=1000), Output()), _dom_clas…"
      ]
     },
     "metadata": {},
     "output_type": "display_data"
    }
   ],
   "source": [
    "@interact(maxkey=widgets.IntSlider(min=0, max=100000, step=1000, value=1000))\n",
    "def uniform(maxkey):\n",
    "    plot(lambda: random.random() * maxkey, maxkey)"
   ]
  },
  {
   "cell_type": "code",
   "execution_count": 9,
   "metadata": {},
   "outputs": [
    {
     "data": {
      "application/vnd.jupyter.widget-view+json": {
       "model_id": "fbe3fd192c5e4576976070036d6fad2c",
       "version_major": 2,
       "version_minor": 0
      },
      "text/plain": [
       "interactive(children=(FloatSlider(value=0.3, description='sd', max=1.0, step=0.01), IntSlider(value=1000, desc…"
      ]
     },
     "metadata": {},
     "output_type": "display_data"
    }
   ],
   "source": [
    "@interact(sd=widgets.FloatSlider(min=0.0, max=1, step=0.01, value=0.3),\n",
    "          maxkey=widgets.IntSlider(min=0, max=100000, step=1000, value=1000))\n",
    "def gauss(sd, maxkey):\n",
    "    plot(lambda: random.gauss(0, 1) * ((maxkey/2)*sd) + (maxkey/2), maxkey)"
   ]
  }
 ],
 "metadata": {
  "kernelspec": {
   "display_name": "Python 3",
   "language": "python",
   "name": "python3"
  },
  "language_info": {
   "codemirror_mode": {
    "name": "ipython",
    "version": 3
   },
   "file_extension": ".py",
   "mimetype": "text/x-python",
   "name": "python",
   "nbconvert_exporter": "python",
   "pygments_lexer": "ipython3",
   "version": "3.7.3"
  }
 },
 "nbformat": 4,
 "nbformat_minor": 4
}
